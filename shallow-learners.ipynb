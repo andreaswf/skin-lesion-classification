{
 "cells": [
  {
   "cell_type": "markdown",
   "metadata": {},
   "source": [
    "Loading libaries"
   ]
  },
  {
   "cell_type": "code",
   "execution_count": 1,
   "metadata": {},
   "outputs": [],
   "source": [
    "import os\n",
    "import pandas as pd\n",
    "from pathlib import Path\n",
    "from PIL import Image\n",
    "from datasets import load_dataset, DownloadMode\n",
    "import tensorflow as tf\n",
    "import numpy as np\n",
    "import wandb\n",
    "\n",
    "from sklearn.ensemble import RandomForestClassifier, GradientBoostingClassifier, VotingClassifier, HistGradientBoostingClassifier, StackingClassifier\n",
    "\n",
    "from sklearn.decomposition import PCA\n",
    "import matplotlib.pyplot as plt\n",
    "\n",
    "\n",
    "from sklearn.metrics import classification_report, accuracy_score\n",
    "from sklearn.svm import SVC"
   ]
  },
  {
   "cell_type": "markdown",
   "metadata": {},
   "source": [
    "Loading the dataset. (Try different splits later)\n"
   ]
  },
  {
   "cell_type": "code",
   "execution_count": 2,
   "metadata": {},
   "outputs": [
    {
     "data": {
      "application/vnd.jupyter.widget-view+json": {
       "model_id": "5447537ea5af4a9b9708be5bb8ec8706",
       "version_major": 2,
       "version_minor": 0
      },
      "text/plain": [
       "Resolving data files:   0%|          | 0/24 [00:00<?, ?it/s]"
      ]
     },
     "metadata": {},
     "output_type": "display_data"
    },
    {
     "data": {
      "application/vnd.jupyter.widget-view+json": {
       "model_id": "d79e9132b3154735b280824bd1344328",
       "version_major": 2,
       "version_minor": 0
      },
      "text/plain": [
       "Resolving data files:   0%|          | 0/24 [00:00<?, ?it/s]"
      ]
     },
     "metadata": {},
     "output_type": "display_data"
    },
    {
     "data": {
      "text/plain": [
       "'# Load 10% of the dataset\\ndataset = load_dataset(\\n    \"ahmed-ai/skin-lesions-classification-dataset\",\\n    split={\\n        \\'train\\': \\'train[:20%]\\',\\n        \\'validation\\': \\'validation[:20%]\\',\\n        \\'test\\': \\'test[:20%]\\'\\n    },\\n    cache_dir=destination_path,\\n    download_mode=DownloadMode.REUSE_DATASET_IF_EXISTS \\n)'"
      ]
     },
     "execution_count": 2,
     "metadata": {},
     "output_type": "execute_result"
    }
   ],
   "source": [
    "# location folder\n",
    "filepath = r'Data_subsets\\20percent'\n",
    "# Define the destination path\n",
    "destination_path = str(Path(filepath))\n",
    "\n",
    "# Create the destination directory if it doesn't exist\n",
    "os.makedirs(destination_path, exist_ok=True)\n",
    "\n",
    "# Load the entire dataset\n",
    "dataset = load_dataset(\n",
    "    \"ahmed-ai/skin-lesions-classification-dataset\", \n",
    "    cache_dir=destination_path,\n",
    "    download_mode=DownloadMode.REUSE_DATASET_IF_EXISTS \n",
    ")\n",
    "\n",
    "\n",
    "\"\"\"# Load 10% of the dataset\n",
    "dataset = load_dataset(\n",
    "    \"ahmed-ai/skin-lesions-classification-dataset\",\n",
    "    split={\n",
    "        'train': 'train[:20%]',\n",
    "        'validation': 'validation[:20%]',\n",
    "        'test': 'test[:20%]'\n",
    "    },\n",
    "    cache_dir=destination_path,\n",
    "    download_mode=DownloadMode.REUSE_DATASET_IF_EXISTS \n",
    ")\"\"\""
   ]
  },
  {
   "cell_type": "code",
   "execution_count": 3,
   "metadata": {},
   "outputs": [
    {
     "data": {
      "application/vnd.jupyter.widget-view+json": {
       "model_id": "e0f5337e4a034f52b75b559a3b30b090",
       "version_major": 2,
       "version_minor": 0
      },
      "text/plain": [
       "Map:   0%|          | 0/29322 [00:00<?, ? examples/s]"
      ]
     },
     "metadata": {},
     "output_type": "display_data"
    },
    {
     "data": {
      "application/vnd.jupyter.widget-view+json": {
       "model_id": "710511fa108345b88c4bca76ad4638e9",
       "version_major": 2,
       "version_minor": 0
      },
      "text/plain": [
       "Map:   0%|          | 0/3660 [00:00<?, ? examples/s]"
      ]
     },
     "metadata": {},
     "output_type": "display_data"
    },
    {
     "data": {
      "application/vnd.jupyter.widget-view+json": {
       "model_id": "b5346af9233447fe9a79b11dbb79e00d",
       "version_major": 2,
       "version_minor": 0
      },
      "text/plain": [
       "Map:   0%|          | 0/3674 [00:00<?, ? examples/s]"
      ]
     },
     "metadata": {},
     "output_type": "display_data"
    }
   ],
   "source": [
    "# Set image target height and width: That is entirely your choice...below is just an example\n",
    "TARGET_HEIGHT = 96\n",
    "TARGET_WIDTH = 96\n",
    "\n",
    "# Resize function in case it is needed\n",
    "def resize_images(example):\n",
    "    # Resize the image using PIL\n",
    "    example['image'] = example['image'].resize((TARGET_WIDTH, TARGET_HEIGHT), Image.BICUBIC)\n",
    "    return example\n",
    "\n",
    "# Apply the resizing function\n",
    "resized_dataset = dataset.map(resize_images)"
   ]
  },
  {
   "cell_type": "code",
   "execution_count": 4,
   "metadata": {},
   "outputs": [
    {
     "name": "stdout",
     "output_type": "stream",
     "text": [
      "Train dataset size: 29322\n",
      "Validation dataset size: 3660\n",
      "Test dataset size: 3674\n",
      "\n",
      "Column names in the training data:\n",
      "['image', 'label']\n"
     ]
    }
   ],
   "source": [
    "# Split the dataset into training, validation, and test sets\n",
    "df_train = dataset['train']\n",
    "df_train_rs = resized_dataset['train']\n",
    "df_validation = dataset['validation']\n",
    "df_validation_rs = resized_dataset['validation']\n",
    "df_test = dataset['test']\n",
    "df_test_rs = resized_dataset['test']\n",
    "\n",
    "# Display the sizes of the splits\n",
    "print(f\"Train dataset size: {len(df_train_rs)}\")\n",
    "print(f\"Validation dataset size: {len(df_validation_rs)}\")\n",
    "print(f\"Test dataset size: {len(df_test)}\")\n",
    "\n",
    "# Get the column names\n",
    "print(\"\\nColumn names in the training data:\")\n",
    "print(resized_dataset['train'].column_names)"
   ]
  },
  {
   "cell_type": "code",
   "execution_count": 5,
   "metadata": {},
   "outputs": [
    {
     "name": "stdout",
     "output_type": "stream",
     "text": [
      "Number of categories in label: 14\n"
     ]
    }
   ],
   "source": [
    "# computing the number of categories in the label column\n",
    "num_categories = len(set(df_train_rs['label']))\n",
    "print(f\"Number of categories in label: {num_categories}\")"
   ]
  },
  {
   "cell_type": "code",
   "execution_count": 6,
   "metadata": {},
   "outputs": [
    {
     "name": "stdout",
     "output_type": "stream",
     "text": [
      "Shape of each image in df_train_rs: (224, 224, 3)\n"
     ]
    }
   ],
   "source": [
    "# computing the shape of the images\n",
    "image_shape = np.array(df_train_rs[0][\"image\"]).shape\n",
    "print(f\"Shape of each image in df_train_rs: {image_shape}\")"
   ]
  },
  {
   "cell_type": "code",
   "execution_count": 7,
   "metadata": {},
   "outputs": [
    {
     "name": "stdout",
     "output_type": "stream",
     "text": [
      "Number of images in the training set: 29322\n"
     ]
    }
   ],
   "source": [
    "# computing the number of images in the training set\n",
    "num_images = len(df_train_rs)\n",
    "print(f\"Number of images in the training set: {num_images}\")"
   ]
  },
  {
   "cell_type": "code",
   "execution_count": 8,
   "metadata": {},
   "outputs": [
    {
     "data": {
      "image/jpeg": "[encoded data removed]",
      "image/png": "[encoded data removed]",
      "text/plain": [
       "<PIL.PngImagePlugin.PngImageFile image mode=RGB size=224x224>"
      ]
     },
     "execution_count": 8,
     "metadata": {},
     "output_type": "execute_result"
    }
   ],
   "source": [
    "# plotting the first image in the training set\n",
    "df_train_rs[24193][\"image\"]"
   ]
  },
  {
   "cell_type": "code",
   "execution_count": 9,
   "metadata": {},
   "outputs": [],
   "source": [
    "# Create a TensorFlow dataset\n",
    "tf_train = df_train_rs.to_tf_dataset(\n",
    "            columns='image',\n",
    "            label_cols='label',\n",
    "            batch_size=32,\n",
    "            shuffle=True,\n",
    "            drop_remainder=False\n",
    "            )\n",
    "tf_validation = df_validation_rs.to_tf_dataset(\n",
    "            columns='image',\n",
    "            label_cols='label',\n",
    "            batch_size=32,\n",
    "            #shuffle=True,\n",
    "            drop_remainder=False\n",
    "            )\n",
    "tf_test = df_test_rs.to_tf_dataset(\n",
    "            columns='image',\n",
    "            label_cols='label',\n",
    "            batch_size=32,\n",
    "            #shuffle=True,\n",
    "            drop_remainder=False\n",
    "            )"
   ]
  },
  {
   "cell_type": "code",
   "execution_count": 11,
   "metadata": {},
   "outputs": [],
   "source": [
    "tf.data.Dataset.save(tf_train, 'Data_TF_saved/alldata224/train')\n",
    "tf.data.Dataset.save(tf_validation, 'Data_TF_saved/alldata224/validation')\n",
    "tf.data.Dataset.save(tf_test, 'Data_TF_saved/alldata224/test')\n",
    "\n"
   ]
  },
  {
   "cell_type": "code",
   "execution_count": 12,
   "metadata": {},
   "outputs": [],
   "source": [
    "# Load the saved datasets\n",
    "tf_train = tf.data.Dataset.load('Data_TF_saved/alldata224/train')\n",
    "tf_validation = tf.data.Dataset.load('Data_TF_saved/alldata224/validation')\n",
    "tf_test = tf.data.Dataset.load('Data_TF_saved/alldata224/test')"
   ]
  },
  {
   "cell_type": "code",
   "execution_count": 13,
   "metadata": {},
   "outputs": [],
   "source": [
    "def preprocess_image(image, label):    \n",
    "    image = tf.cast(image, tf.float32)/ 255.0\n",
    "    return image, label\n",
    "\n",
    "train_dataset_224 = tf_train.map(preprocess_image)\n",
    "validation_dataset_224 = tf_validation.map(preprocess_image)\n",
    "test_dataset_224 = tf_test.map(preprocess_image)\n",
    "\n"
   ]
  },
  {
   "cell_type": "code",
   "execution_count": 15,
   "metadata": {},
   "outputs": [
    {
     "name": "stdout",
     "output_type": "stream",
     "text": [
      "Processing train dataset...\n",
      "Total samples in dataset: 917\n",
      "Processing validation dataset...\n",
      "Total samples in dataset: 115\n",
      "Processing test dataset...\n",
      "Total samples in dataset: 115\n"
     ]
    }
   ],
   "source": [
    "def process_dataset(dataset, target_size=(96, 96)):\n",
    "    \"\"\"\n",
    "    Process a TensorFlow dataset into scaled images and labels suitable for ML models.\n",
    "    \n",
    "    Args:\n",
    "        dataset: tf.data.Dataset containing image-label pairs\n",
    "        target_size: tuple of (height, width) for image resizing\n",
    "        \n",
    "    Returns:\n",
    "        processed_images: numpy array of flattened, scaled images\n",
    "        labels: numpy array of labels\n",
    "    \"\"\"\n",
    "    total_samples = len(list(dataset.as_numpy_iterator()))\n",
    "    print(f\"Total samples in dataset: {total_samples}\")\n",
    "    \n",
    "    images_list = []\n",
    "    labels_list = []\n",
    "    \n",
    "    # Process each image-label pair\n",
    "    for image, label in dataset.unbatch():\n",
    "        try:\n",
    "            # Convert and resize image\n",
    "            #image = tf.image.rgb_to_grayscale(image)\n",
    "            image = tf.image.resize(image, target_size)\n",
    "            # Normalize to [0,1]\n",
    "            image = image.numpy().astype('float32') #/ 255.0\n",
    "            # Ensure correct shape\n",
    "            if len(image.shape) == 2:\n",
    "                image = np.expand_dims(image, axis=-1)\n",
    "            # Flatten image\n",
    "            images_list.append(image.reshape(-1))\n",
    "            labels_list.append(label)\n",
    "        except Exception as e:\n",
    "            print(f\"Error processing image with label {label}: {e}\")\n",
    "            \n",
    "    \n",
    "    # Stack and convert to numpy arrays\n",
    "    processed_images = np.vstack(images_list)\n",
    "    labels = np.array(labels_list)\n",
    "    \n",
    "    return processed_images, labels\n",
    "\n",
    "# Usage example:\n",
    "print(\"Processing train dataset...\")\n",
    "# draw a random sample of size 1000,100,100 from the training,val,test dataset for faster processing\n",
    "train_dataset_32_numpy, train_labels_numpy = process_dataset(train_dataset_224)\n",
    "print(\"Processing validation dataset...\")\n",
    "validation_dataset_32_numpy, validation_labels_numpy = process_dataset(validation_dataset_224)\n",
    "print(\"Processing test dataset...\")\n",
    "test_dataset_32_numpy, test_labels_numpy = process_dataset(test_dataset_224)"
   ]
  },
  {
   "cell_type": "code",
   "execution_count": 16,
   "metadata": {},
   "outputs": [
    {
     "name": "stdout",
     "output_type": "stream",
     "text": [
      "\n",
      "Dataset Dimensions:\n",
      "--------------------------------------------------\n",
      "Training Data:\n",
      "Images: (29322, 150528) (samples, features)\n",
      "Labels: (29322,)\n",
      "\n",
      "Validation Data:\n",
      "Images: (3660, 150528) (samples, features)\n",
      "Labels: (3660,)\n",
      "\n",
      "Test Data:\n",
      "Images: (3674, 150528) (samples, features)\n",
      "Labels: (3674,)\n",
      "\n",
      "Number of features per image: 150528 (32x32x1 flattened)\n"
     ]
    }
   ],
   "source": [
    "# Print dimensions\n",
    "print(\"\\nDataset Dimensions:\")\n",
    "print(\"-\" * 50)\n",
    "print(f\"Training Data:\")\n",
    "print(f\"Images: {train_dataset_32_numpy.shape} (samples, features)\")\n",
    "print(f\"Labels: {train_labels_numpy.shape}\")\n",
    "print(f\"\\nValidation Data:\")\n",
    "print(f\"Images: {validation_dataset_32_numpy.shape} (samples, features)\")\n",
    "print(f\"Labels: {validation_labels_numpy.shape}\")\n",
    "print(f\"\\nTest Data:\")\n",
    "print(f\"Images: {test_dataset_32_numpy.shape} (samples, features)\")\n",
    "print(f\"Labels: {test_labels_numpy.shape}\")\n",
    "\n",
    "# Print feature information\n",
    "n_features = train_dataset_32_numpy.shape[1]\n",
    "print(f\"\\nNumber of features per image: {n_features} (32x32x1 flattened)\")"
   ]
  },
  {
   "cell_type": "code",
   "execution_count": 17,
   "metadata": {},
   "outputs": [],
   "source": [
    "# Save all data together\n",
    "np.savez('Data_NP_saved/full_processed_datasets96x96x3.npz',\n",
    "         train_images=train_dataset_32_numpy, train_labels=train_labels_numpy,\n",
    "         validation_images=validation_dataset_32_numpy, validation_labels=validation_labels_numpy,\n",
    "         test_images=test_dataset_32_numpy, test_labels=test_labels_numpy)\n",
    "\n",
    "\n",
    "\n"
   ]
  },
  {
   "cell_type": "code",
   "execution_count": 1,
   "metadata": {},
   "outputs": [
    {
     "name": "stdout",
     "output_type": "stream",
     "text": [
      "Train Images Shape: (29322, 150528)\n",
      "Train Labels Shape: (29322,)\n",
      "Validation Images Shape: (3660, 150528)\n",
      "Validation Labels Shape: (3660,)\n",
      "Test Images Shape: (3674, 150528)\n",
      "Test Labels Shape: (3674,)\n"
     ]
    }
   ],
   "source": [
    "data = np.load('Data_NP_saved/full_processed_datasets96x96x3.npz')\n",
    "\n",
    "# Access individual datasets\n",
    "train_images = data['train_images']\n",
    "train_labels = data['train_labels']\n",
    "validation_images = data['validation_images']\n",
    "validation_labels = data['validation_labels']\n",
    "test_images = data['test_images']\n",
    "test_labels = data['test_labels']\n",
    "\n",
    "# Print shapes\n",
    "print(\"Train Images Shape:\", train_images.shape)\n",
    "print(\"Train Labels Shape:\", train_labels.shape)\n",
    "print(\"Validation Images Shape:\", validation_images.shape)\n",
    "print(\"Validation Labels Shape:\", validation_labels.shape)\n",
    "print(\"Test Images Shape:\", test_images.shape)\n",
    "print(\"Test Labels Shape:\", test_labels.shape)"
   ]
  },
  {
   "cell_type": "code",
   "execution_count": 2,
   "metadata": {},
   "outputs": [
    {
     "name": "stdout",
     "output_type": "stream",
     "text": [
      "Number of duplicate images in training set: 654\n",
      "Number of duplicate images in validation set: 9\n",
      "Number of duplicate images in test set: 11\n",
      "After removing duplicates:\n",
      "Train set: (28668, 150528)\n",
      "Validation set: (3651, 150528)\n",
      "Test set: (3663, 150528)\n"
     ]
    }
   ],
   "source": [
    "#train dubplicates\n",
    "unique_train, unique_train_idx, inverse_train_idx, train_counts = np.unique(train_images, axis=0, return_index=True, return_inverse=True, return_counts=True)\n",
    "\n",
    "duplicates_train = np.where(train_counts > 1)[0]\n",
    "print(f\"Number of duplicate images in training set: {len(train_images) - len(unique_train)}\")\n",
    "\n",
    "# Visualize duplicates\n",
    "\"\"\"for idx in duplicates_train:\n",
    "    duplicate_ids = np.where(inverse_train_idx == idx)[0]\n",
    "    print(f\"Duplicates for unique image index {idx}: {duplicate_ids}\")\n",
    "    # Example: visualize\n",
    "    fig, axs = plt.subplots(1, len(duplicate_ids), figsize=(10, 2))\n",
    "    if len(duplicate_ids) == 1:\n",
    "        axs = [axs]\n",
    "    for i, dup_id in enumerate(duplicate_ids):\n",
    "        axs[i].imshow(train_images[dup_id].reshape(32, 32, 3))\n",
    "        axs[i].set_title(f\"Idx: {dup_id}\")\n",
    "        axs[i].axis('off')\n",
    "    plt.show()\"\"\"\n",
    "\n",
    "\n",
    "train_images = train_images[unique_train_idx]\n",
    "train_labels = train_labels[unique_train_idx]\n",
    "\n",
    "#val dubplicates\n",
    "unique_val, unique_val_idx = np.unique(validation_images, axis=0, return_index=True)\n",
    "print(f\"Number of duplicate images in validation set: {len(validation_images) - len(unique_val)}\")\n",
    "validation_images = validation_images[unique_val_idx]\n",
    "validation_labels = validation_labels[unique_val_idx]\n",
    "\n",
    "#test dubplicates\n",
    "unique_test, unique_test_idx = np.unique(test_images, axis=0, return_index=True)\n",
    "print(f\"Number of duplicate images in test set: {len(test_images) - len(unique_test)}\")\n",
    "test_images = test_images[unique_test_idx]\n",
    "test_labels = test_labels[unique_test_idx]\n",
    "\n",
    "# shapes\n",
    "print(\"After removing duplicates:\")\n",
    "print(f\"Train set: {train_images.shape}\")\n",
    "print(f\"Validation set: {validation_images.shape}\")\n",
    "print(f\"Test set: {test_images.shape}\")\n"
   ]
  },
  {
   "cell_type": "code",
   "execution_count": 3,
   "metadata": {},
   "outputs": [],
   "source": [
    "np.savez('Data_NP_saved/for_cnn_96x96x3.npz',\n",
    "         train_images=train_images, train_labels=train_labels,\n",
    "         validation_images=validation_images, validation_labels=validation_labels,\n",
    "         test_images=test_images, test_labels=test_labels)"
   ]
  },
  {
   "cell_type": "markdown",
   "metadata": {},
   "source": [
    "PCA"
   ]
  },
  {
   "cell_type": "code",
   "execution_count": 3,
   "metadata": {},
   "outputs": [
    {
     "data": {
      "image/png": "[encoded data removed]",
      "text/plain": [
       "<Figure size 800x500 with 1 Axes>"
      ]
     },
     "metadata": {},
     "output_type": "display_data"
    },
    {
     "data": {
      "image/png": "[encoded data removed]",
      "text/plain": [
       "<Figure size 800x500 with 1 Axes>"
      ]
     },
     "metadata": {},
     "output_type": "display_data"
    }
   ],
   "source": [
    "\n",
    "pca = PCA(n_components=100, random_state=42)\n",
    "pca.fit(train_images)\n",
    "\n",
    "train_images_pca = pca.transform(train_images)\n",
    "validation_images_pca = pca.transform(validation_images)\n",
    "test_images_pca = pca.transform(test_images)\n",
    "\n",
    "\n",
    "plt.figure(figsize=(8, 5))\n",
    "plt.plot(range(1, len(pca.explained_variance_ratio_) + 1), pca.explained_variance_ratio_, marker='o')\n",
    "plt.title(\"Explained Variance Ratio by Principal Components\")\n",
    "plt.xlabel(\"Principal Component\")\n",
    "plt.ylabel(\"Explained Variance Ratio\")\n",
    "plt.show()\n",
    "\n",
    "\n",
    "cumulative_explained_variance = pca.explained_variance_ratio_.cumsum()\n",
    "plt.figure(figsize=(8, 5))\n",
    "plt.plot(range(1, len(cumulative_explained_variance) + 1), cumulative_explained_variance, marker='o')\n",
    "plt.title(\"Cumulative Explained Variance by Principal Components\")\n",
    "plt.xlabel(\"Principal Component\")\n",
    "plt.ylabel(\"Cumulative Explained Variance\")\n",
    "plt.ylim(0.5, 1)\n",
    "plt.axhline(y=0.95, color='r', linestyle='--')  # For 95% variance\n",
    "plt.show()\n",
    "\n",
    "train_images = train_images_pca\n",
    "validation_images = validation_images_pca\n",
    "test_images = test_images_pca"
   ]
  },
  {
   "cell_type": "markdown",
   "metadata": {},
   "source": [
    "GradientBoosting classifier optimal run"
   ]
  },
  {
   "cell_type": "code",
   "execution_count": 11,
   "metadata": {},
   "outputs": [
    {
     "data": {
      "text/html": [
       "Tracking run with wandb version 0.19.0"
      ],
      "text/plain": [
       "<IPython.core.display.HTML object>"
      ]
     },
     "metadata": {},
     "output_type": "display_data"
    },
    {
     "data": {
      "text/html": [
       "Run data is saved locally in <code>c:\\AML LOCAL exam 2024\\wandb\\run-20250119_010629-ixl3lyq3</code>"
      ],
      "text/plain": [
       "<IPython.core.display.HTML object>"
      ]
     },
     "metadata": {},
     "output_type": "display_data"
    },
    {
     "data": {
      "text/html": [
       "Syncing run <strong><a href='https://wandb.ai/awacherfuglsang-university-of-southern-denmark/shallow-learners-TEST6/runs/ixl3lyq3' target=\"_blank\">GB-32x32x3_TEST</a></strong> to <a href='https://wandb.ai/awacherfuglsang-university-of-southern-denmark/shallow-learners-TEST6' target=\"_blank\">Weights & Biases</a> (<a href='https://wandb.me/developer-guide' target=\"_blank\">docs</a>)<br/>"
      ],
      "text/plain": [
       "<IPython.core.display.HTML object>"
      ]
     },
     "metadata": {},
     "output_type": "display_data"
    },
    {
     "data": {
      "text/html": [
       " View project at <a href='https://wandb.ai/awacherfuglsang-university-of-southern-denmark/shallow-learners-TEST6' target=\"_blank\">https://wandb.ai/awacherfuglsang-university-of-southern-denmark/shallow-learners-TEST6</a>"
      ],
      "text/plain": [
       "<IPython.core.display.HTML object>"
      ]
     },
     "metadata": {},
     "output_type": "display_data"
    },
    {
     "data": {
      "text/html": [
       " View run at <a href='https://wandb.ai/awacherfuglsang-university-of-southern-denmark/shallow-learners-TEST6/runs/ixl3lyq3' target=\"_blank\">https://wandb.ai/awacherfuglsang-university-of-southern-denmark/shallow-learners-TEST6/runs/ixl3lyq3</a>"
      ],
      "text/plain": [
       "<IPython.core.display.HTML object>"
      ]
     },
     "metadata": {},
     "output_type": "display_data"
    },
    {
     "name": "stdout",
     "output_type": "stream",
     "text": [
      "Training HistGradient Boosting classifier with optimal parameters...\n"
     ]
    },
    {
     "name": "stderr",
     "output_type": "stream",
     "text": [
      "c:\\Users\\Fuglsang\\miniconda3\\envs\\aml\\lib\\site-packages\\sklearn\\metrics\\_classification.py:1531: UndefinedMetricWarning: Precision is ill-defined and being set to 0.0 in labels with no predicted samples. Use `zero_division` parameter to control this behavior.\n",
      "  _warn_prf(average, modifier, f\"{metric.capitalize()} is\", len(result))\n",
      "c:\\Users\\Fuglsang\\miniconda3\\envs\\aml\\lib\\site-packages\\sklearn\\metrics\\_classification.py:1531: UndefinedMetricWarning: Precision is ill-defined and being set to 0.0 in labels with no predicted samples. Use `zero_division` parameter to control this behavior.\n",
      "  _warn_prf(average, modifier, f\"{metric.capitalize()} is\", len(result))\n",
      "c:\\Users\\Fuglsang\\miniconda3\\envs\\aml\\lib\\site-packages\\sklearn\\metrics\\_classification.py:1531: UndefinedMetricWarning: Precision is ill-defined and being set to 0.0 in labels with no predicted samples. Use `zero_division` parameter to control this behavior.\n",
      "  _warn_prf(average, modifier, f\"{metric.capitalize()} is\", len(result))\n"
     ]
    },
    {
     "name": "stdout",
     "output_type": "stream",
     "text": [
      "Validation Accuracy: 0.6814571350314982\n",
      "Train Accuracy: 0.9196986081557191\n",
      "Test Accuracy: 0.6784056784056784\n",
      "Class-wise Accuracy:\n",
      "class_0_accuracy: 0.08\n",
      "class_1_accuracy: 0.59\n",
      "class_2_accuracy: 0.18\n",
      "class_3_accuracy: 0.67\n",
      "class_4_accuracy: 0.63\n",
      "class_5_accuracy: 0.00\n",
      "class_6_accuracy: 0.80\n",
      "class_7_accuracy: 0.83\n",
      "class_8_accuracy: 0.59\n",
      "class_9_accuracy: 0.89\n",
      "class_10_accuracy: 0.40\n",
      "class_11_accuracy: 0.92\n",
      "class_12_accuracy: 0.00\n",
      "class_13_accuracy: 0.08\n"
     ]
    },
    {
     "data": {
      "text/html": [
       "\n",
       "    <style>\n",
       "        .wandb-row {\n",
       "            display: flex;\n",
       "            flex-direction: row;\n",
       "            flex-wrap: wrap;\n",
       "            justify-content: flex-start;\n",
       "            width: 100%;\n",
       "        }\n",
       "        .wandb-col {\n",
       "            display: flex;\n",
       "            flex-direction: column;\n",
       "            flex-basis: 100%;\n",
       "            flex: 1;\n",
       "            padding: 10px;\n",
       "        }\n",
       "    </style>\n",
       "<div class=\"wandb-row\"><div class=\"wandb-col\"><h3>Run history:</h3><br/><table class=\"wandb\"><tr><td>class_0_accuracy</td><td>▁</td></tr><tr><td>class_10_accuracy</td><td>▁</td></tr><tr><td>class_11_accuracy</td><td>▁</td></tr><tr><td>class_12_accuracy</td><td>▁</td></tr><tr><td>class_13_accuracy</td><td>▁</td></tr><tr><td>class_1_accuracy</td><td>▁</td></tr><tr><td>class_2_accuracy</td><td>▁</td></tr><tr><td>class_3_accuracy</td><td>▁</td></tr><tr><td>class_4_accuracy</td><td>▁</td></tr><tr><td>class_5_accuracy</td><td>▁</td></tr><tr><td>class_6_accuracy</td><td>▁</td></tr><tr><td>class_7_accuracy</td><td>▁</td></tr><tr><td>class_8_accuracy</td><td>▁</td></tr><tr><td>class_9_accuracy</td><td>▁</td></tr><tr><td>test_accuracy</td><td>▁</td></tr><tr><td>train_accuracy</td><td>▁</td></tr><tr><td>val_accuracy</td><td>▁</td></tr></table><br/></div><div class=\"wandb-col\"><h3>Run summary:</h3><br/><table class=\"wandb\"><tr><td>class_0_accuracy</td><td>0.07955</td></tr><tr><td>class_10_accuracy</td><td>0.39514</td></tr><tr><td>class_11_accuracy</td><td>0.92453</td></tr><tr><td>class_12_accuracy</td><td>0</td></tr><tr><td>class_13_accuracy</td><td>0.07692</td></tr><tr><td>class_1_accuracy</td><td>0.59459</td></tr><tr><td>class_2_accuracy</td><td>0.18321</td></tr><tr><td>class_3_accuracy</td><td>0.66667</td></tr><tr><td>class_4_accuracy</td><td>0.62626</td></tr><tr><td>class_5_accuracy</td><td>0</td></tr><tr><td>class_6_accuracy</td><td>0.80335</td></tr><tr><td>class_7_accuracy</td><td>0.82941</td></tr><tr><td>class_8_accuracy</td><td>0.59259</td></tr><tr><td>class_9_accuracy</td><td>0.88665</td></tr><tr><td>test_accuracy</td><td>0.67841</td></tr><tr><td>train_accuracy</td><td>0.9197</td></tr><tr><td>val_accuracy</td><td>0.68146</td></tr></table><br/></div></div>"
      ],
      "text/plain": [
       "<IPython.core.display.HTML object>"
      ]
     },
     "metadata": {},
     "output_type": "display_data"
    },
    {
     "data": {
      "text/html": [
       " View run <strong style=\"color:#cdcd00\">GB-32x32x3_TEST</strong> at: <a href='https://wandb.ai/awacherfuglsang-university-of-southern-denmark/shallow-learners-TEST6/runs/ixl3lyq3' target=\"_blank\">https://wandb.ai/awacherfuglsang-university-of-southern-denmark/shallow-learners-TEST6/runs/ixl3lyq3</a><br/> View project at: <a href='https://wandb.ai/awacherfuglsang-university-of-southern-denmark/shallow-learners-TEST6' target=\"_blank\">https://wandb.ai/awacherfuglsang-university-of-southern-denmark/shallow-learners-TEST6</a><br/>Synced 5 W&B file(s), 0 media file(s), 0 artifact file(s) and 0 other file(s)"
      ],
      "text/plain": [
       "<IPython.core.display.HTML object>"
      ]
     },
     "metadata": {},
     "output_type": "display_data"
    },
    {
     "data": {
      "text/html": [
       "Find logs at: <code>.\\wandb\\run-20250119_010629-ixl3lyq3\\logs</code>"
      ],
      "text/plain": [
       "<IPython.core.display.HTML object>"
      ]
     },
     "metadata": {},
     "output_type": "display_data"
    }
   ],
   "source": [
    "optimal_params = {\n",
    "    'learning_rate': 0.018,\n",
    "    'max_iter': 750,\n",
    "    'max_depth': 11,\n",
    "    'l2_regularization': 0.324\n",
    "}\n",
    "\n",
    "# Start a W&B run\n",
    "wandb.init(project=\"shallow-learners-TEST6\", name=\"GB-32x32x3_TEST\", config=optimal_params)\n",
    "\n",
    "\n",
    "\n",
    "# Initialize the classifier with optimal parameters\n",
    "classifier = HistGradientBoostingClassifier(\n",
    "    learning_rate=optimal_params['learning_rate'],\n",
    "    max_iter=optimal_params['max_iter'],\n",
    "    max_depth=optimal_params['max_depth'],\n",
    "    l2_regularization=optimal_params['l2_regularization']\n",
    ")\n",
    "\n",
    "# Train the model\n",
    "print(\"Training HistGradient Boosting classifier with optimal parameters...\")\n",
    "classifier.fit(train_images, train_labels)\n",
    "\n",
    "# Evaluate on the validation set\n",
    "val_predictions = classifier.predict(validation_images)\n",
    "val_accuracy = accuracy_score(validation_labels, val_predictions)\n",
    "\n",
    "# Evaluate on the training set\n",
    "train_predictions = classifier.predict(train_images)\n",
    "train_accuracy = accuracy_score(train_labels, train_predictions)\n",
    "\n",
    "# Evaluate on the test set\n",
    "test_predictions = classifier.predict(test_images)\n",
    "test_accuracy = accuracy_score(test_labels, test_predictions)\n",
    "\n",
    "# Class-wise accuracy for test set\n",
    "classification_details = classification_report(test_labels, test_predictions, output_dict=True)\n",
    "class_accuracies = {}\n",
    "for label, metrics in classification_details.items():\n",
    "    if label.isdigit():\n",
    "        class_accuracies[f'class_{label}_accuracy'] = metrics['recall']\n",
    "\n",
    "# Log metrics to W&B\n",
    "wandb.log({\n",
    "    \"val_accuracy\": val_accuracy,\n",
    "    \"train_accuracy\": train_accuracy,\n",
    "    \"test_accuracy\": test_accuracy,\n",
    "    **class_accuracies\n",
    "})\n",
    "\n",
    "\n",
    "# Finish the W&B run\n",
    "wandb.finish()\n"
   ]
  },
  {
   "cell_type": "markdown",
   "metadata": {},
   "source": [
    "SCM classifier optimal run"
   ]
  },
  {
   "cell_type": "code",
   "execution_count": 12,
   "metadata": {},
   "outputs": [
    {
     "data": {
      "text/html": [
       "Tracking run with wandb version 0.19.0"
      ],
      "text/plain": [
       "<IPython.core.display.HTML object>"
      ]
     },
     "metadata": {},
     "output_type": "display_data"
    },
    {
     "data": {
      "text/html": [
       "Run data is saved locally in <code>c:\\AML LOCAL exam 2024\\wandb\\run-20250119_010737-6pog3vcj</code>"
      ],
      "text/plain": [
       "<IPython.core.display.HTML object>"
      ]
     },
     "metadata": {},
     "output_type": "display_data"
    },
    {
     "data": {
      "text/html": [
       "Syncing run <strong><a href='https://wandb.ai/awacherfuglsang-university-of-southern-denmark/shallow-learners-TEST6/runs/6pog3vcj' target=\"_blank\">SVM-32x32x3-test</a></strong> to <a href='https://wandb.ai/awacherfuglsang-university-of-southern-denmark/shallow-learners-TEST6' target=\"_blank\">Weights & Biases</a> (<a href='https://wandb.me/developer-guide' target=\"_blank\">docs</a>)<br/>"
      ],
      "text/plain": [
       "<IPython.core.display.HTML object>"
      ]
     },
     "metadata": {},
     "output_type": "display_data"
    },
    {
     "data": {
      "text/html": [
       " View project at <a href='https://wandb.ai/awacherfuglsang-university-of-southern-denmark/shallow-learners-TEST6' target=\"_blank\">https://wandb.ai/awacherfuglsang-university-of-southern-denmark/shallow-learners-TEST6</a>"
      ],
      "text/plain": [
       "<IPython.core.display.HTML object>"
      ]
     },
     "metadata": {},
     "output_type": "display_data"
    },
    {
     "data": {
      "text/html": [
       " View run at <a href='https://wandb.ai/awacherfuglsang-university-of-southern-denmark/shallow-learners-TEST6/runs/6pog3vcj' target=\"_blank\">https://wandb.ai/awacherfuglsang-university-of-southern-denmark/shallow-learners-TEST6/runs/6pog3vcj</a>"
      ],
      "text/plain": [
       "<IPython.core.display.HTML object>"
      ]
     },
     "metadata": {},
     "output_type": "display_data"
    },
    {
     "name": "stdout",
     "output_type": "stream",
     "text": [
      "Training SVM  classifier with optimal parameters...\n",
      "Validation Accuracy: 0.6822788277184333\n",
      "Train Accuracy: 0.8324205532493808\n",
      "Test Accuracy: 0.6732186732186732\n",
      "Class-wise Accuracy:\n",
      "class_0_accuracy: 0.18\n",
      "class_1_accuracy: 0.67\n",
      "class_2_accuracy: 0.24\n",
      "class_3_accuracy: 0.59\n",
      "class_4_accuracy: 0.71\n",
      "class_5_accuracy: 0.00\n",
      "class_6_accuracy: 0.76\n",
      "class_7_accuracy: 0.81\n",
      "class_8_accuracy: 0.68\n",
      "class_9_accuracy: 0.89\n",
      "class_10_accuracy: 0.31\n",
      "class_11_accuracy: 0.86\n",
      "class_12_accuracy: 0.03\n",
      "class_13_accuracy: 0.12\n"
     ]
    },
    {
     "data": {
      "text/html": [
       "\n",
       "    <style>\n",
       "        .wandb-row {\n",
       "            display: flex;\n",
       "            flex-direction: row;\n",
       "            flex-wrap: wrap;\n",
       "            justify-content: flex-start;\n",
       "            width: 100%;\n",
       "        }\n",
       "        .wandb-col {\n",
       "            display: flex;\n",
       "            flex-direction: column;\n",
       "            flex-basis: 100%;\n",
       "            flex: 1;\n",
       "            padding: 10px;\n",
       "        }\n",
       "    </style>\n",
       "<div class=\"wandb-row\"><div class=\"wandb-col\"><h3>Run history:</h3><br/><table class=\"wandb\"><tr><td>class_0_accuracy</td><td>▁</td></tr><tr><td>class_10_accuracy</td><td>▁</td></tr><tr><td>class_11_accuracy</td><td>▁</td></tr><tr><td>class_12_accuracy</td><td>▁</td></tr><tr><td>class_13_accuracy</td><td>▁</td></tr><tr><td>class_1_accuracy</td><td>▁</td></tr><tr><td>class_2_accuracy</td><td>▁</td></tr><tr><td>class_3_accuracy</td><td>▁</td></tr><tr><td>class_4_accuracy</td><td>▁</td></tr><tr><td>class_5_accuracy</td><td>▁</td></tr><tr><td>class_6_accuracy</td><td>▁</td></tr><tr><td>class_7_accuracy</td><td>▁</td></tr><tr><td>class_8_accuracy</td><td>▁</td></tr><tr><td>class_9_accuracy</td><td>▁</td></tr><tr><td>test_accuracy</td><td>▁</td></tr><tr><td>train_accuracy</td><td>▁</td></tr><tr><td>val_accuracy</td><td>▁</td></tr></table><br/></div><div class=\"wandb-col\"><h3>Run summary:</h3><br/><table class=\"wandb\"><tr><td>class_0_accuracy</td><td>0.18182</td></tr><tr><td>class_10_accuracy</td><td>0.31347</td></tr><tr><td>class_11_accuracy</td><td>0.85849</td></tr><tr><td>class_12_accuracy</td><td>0.03125</td></tr><tr><td>class_13_accuracy</td><td>0.11538</td></tr><tr><td>class_1_accuracy</td><td>0.67267</td></tr><tr><td>class_2_accuracy</td><td>0.23664</td></tr><tr><td>class_3_accuracy</td><td>0.59459</td></tr><tr><td>class_4_accuracy</td><td>0.70707</td></tr><tr><td>class_5_accuracy</td><td>0</td></tr><tr><td>class_6_accuracy</td><td>0.76151</td></tr><tr><td>class_7_accuracy</td><td>0.80588</td></tr><tr><td>class_8_accuracy</td><td>0.67901</td></tr><tr><td>class_9_accuracy</td><td>0.88742</td></tr><tr><td>test_accuracy</td><td>0.67322</td></tr><tr><td>train_accuracy</td><td>0.83242</td></tr><tr><td>val_accuracy</td><td>0.68228</td></tr></table><br/></div></div>"
      ],
      "text/plain": [
       "<IPython.core.display.HTML object>"
      ]
     },
     "metadata": {},
     "output_type": "display_data"
    },
    {
     "data": {
      "text/html": [
       " View run <strong style=\"color:#cdcd00\">SVM-32x32x3-test</strong> at: <a href='https://wandb.ai/awacherfuglsang-university-of-southern-denmark/shallow-learners-TEST6/runs/6pog3vcj' target=\"_blank\">https://wandb.ai/awacherfuglsang-university-of-southern-denmark/shallow-learners-TEST6/runs/6pog3vcj</a><br/> View project at: <a href='https://wandb.ai/awacherfuglsang-university-of-southern-denmark/shallow-learners-TEST6' target=\"_blank\">https://wandb.ai/awacherfuglsang-university-of-southern-denmark/shallow-learners-TEST6</a><br/>Synced 5 W&B file(s), 0 media file(s), 0 artifact file(s) and 0 other file(s)"
      ],
      "text/plain": [
       "<IPython.core.display.HTML object>"
      ]
     },
     "metadata": {},
     "output_type": "display_data"
    },
    {
     "data": {
      "text/html": [
       "Find logs at: <code>.\\wandb\\run-20250119_010737-6pog3vcj\\logs</code>"
      ],
      "text/plain": [
       "<IPython.core.display.HTML object>"
      ]
     },
     "metadata": {},
     "output_type": "display_data"
    }
   ],
   "source": [
    "optimal_params = {\n",
    "    'C': 15,\n",
    "    'kernel': 'rbf',\n",
    "    'gamma': 'scale',\n",
    "}\n",
    "\n",
    "# Start a W&B run\n",
    "wandb.init(project=\"shallow-learners-TEST6\", name=\"SVM-32x32x3-test\", config=optimal_params)\n",
    "\n",
    "# Initialize the classifier with optimal parameters\n",
    "classifier = SVC(\n",
    "    C=optimal_params['C'],\n",
    "    kernel=optimal_params['kernel'],\n",
    "    gamma=optimal_params['gamma']\n",
    ")\n",
    "\n",
    "# Train the model\n",
    "print(\"Training SVM  classifier with optimal parameters...\")\n",
    "classifier.fit(train_images, train_labels)\n",
    "\n",
    "# Evaluate on the validation set\n",
    "val_predictions = classifier.predict(validation_images)\n",
    "val_accuracy = accuracy_score(validation_labels, val_predictions)\n",
    "\n",
    "# Evaluate on the training set\n",
    "train_predictions = classifier.predict(train_images)\n",
    "train_accuracy = accuracy_score(train_labels, train_predictions)\n",
    "\n",
    "# Evaluate on the test set\n",
    "test_predictions = classifier.predict(test_images)\n",
    "test_accuracy = accuracy_score(test_labels, test_predictions)\n",
    "\n",
    "# Class-wise accuracy for test set\n",
    "classification_details = classification_report(test_labels, test_predictions, output_dict=True)\n",
    "class_accuracies = {}\n",
    "for label, metrics in classification_details.items():\n",
    "    if label.isdigit():\n",
    "        class_accuracies[f'class_{label}_accuracy'] = metrics['recall']\n",
    "\n",
    "# Log metrics to W&B\n",
    "wandb.log({\n",
    "    \"val_accuracy\": val_accuracy,\n",
    "    \"train_accuracy\": train_accuracy,\n",
    "    \"test_accuracy\": test_accuracy,\n",
    "    **class_accuracies\n",
    "})\n",
    "\n",
    "# Finish the W&B run\n",
    "wandb.finish()\n"
   ]
  },
  {
   "cell_type": "markdown",
   "metadata": {},
   "source": [
    "RF classifier optimal run"
   ]
  },
  {
   "cell_type": "code",
   "execution_count": 13,
   "metadata": {},
   "outputs": [
    {
     "data": {
      "text/html": [
       "Tracking run with wandb version 0.19.0"
      ],
      "text/plain": [
       "<IPython.core.display.HTML object>"
      ]
     },
     "metadata": {},
     "output_type": "display_data"
    },
    {
     "data": {
      "text/html": [
       "Run data is saved locally in <code>c:\\AML LOCAL exam 2024\\wandb\\run-20250119_011025-ygx8au67</code>"
      ],
      "text/plain": [
       "<IPython.core.display.HTML object>"
      ]
     },
     "metadata": {},
     "output_type": "display_data"
    },
    {
     "data": {
      "text/html": [
       "Syncing run <strong><a href='https://wandb.ai/awacherfuglsang-university-of-southern-denmark/shallow-learners-TEST6/runs/ygx8au67' target=\"_blank\">RF-32x32x3-TEST</a></strong> to <a href='https://wandb.ai/awacherfuglsang-university-of-southern-denmark/shallow-learners-TEST6' target=\"_blank\">Weights & Biases</a> (<a href='https://wandb.me/developer-guide' target=\"_blank\">docs</a>)<br/>"
      ],
      "text/plain": [
       "<IPython.core.display.HTML object>"
      ]
     },
     "metadata": {},
     "output_type": "display_data"
    },
    {
     "data": {
      "text/html": [
       " View project at <a href='https://wandb.ai/awacherfuglsang-university-of-southern-denmark/shallow-learners-TEST6' target=\"_blank\">https://wandb.ai/awacherfuglsang-university-of-southern-denmark/shallow-learners-TEST6</a>"
      ],
      "text/plain": [
       "<IPython.core.display.HTML object>"
      ]
     },
     "metadata": {},
     "output_type": "display_data"
    },
    {
     "data": {
      "text/html": [
       " View run at <a href='https://wandb.ai/awacherfuglsang-university-of-southern-denmark/shallow-learners-TEST6/runs/ygx8au67' target=\"_blank\">https://wandb.ai/awacherfuglsang-university-of-southern-denmark/shallow-learners-TEST6/runs/ygx8au67</a>"
      ],
      "text/plain": [
       "<IPython.core.display.HTML object>"
      ]
     },
     "metadata": {},
     "output_type": "display_data"
    },
    {
     "name": "stdout",
     "output_type": "stream",
     "text": [
      "Training RF classifier with optimal parameters...\n"
     ]
    },
    {
     "name": "stderr",
     "output_type": "stream",
     "text": [
      "c:\\Users\\Fuglsang\\miniconda3\\envs\\aml\\lib\\site-packages\\sklearn\\metrics\\_classification.py:1531: UndefinedMetricWarning: Precision is ill-defined and being set to 0.0 in labels with no predicted samples. Use `zero_division` parameter to control this behavior.\n",
      "  _warn_prf(average, modifier, f\"{metric.capitalize()} is\", len(result))\n",
      "c:\\Users\\Fuglsang\\miniconda3\\envs\\aml\\lib\\site-packages\\sklearn\\metrics\\_classification.py:1531: UndefinedMetricWarning: Precision is ill-defined and being set to 0.0 in labels with no predicted samples. Use `zero_division` parameter to control this behavior.\n",
      "  _warn_prf(average, modifier, f\"{metric.capitalize()} is\", len(result))\n",
      "c:\\Users\\Fuglsang\\miniconda3\\envs\\aml\\lib\\site-packages\\sklearn\\metrics\\_classification.py:1531: UndefinedMetricWarning: Precision is ill-defined and being set to 0.0 in labels with no predicted samples. Use `zero_division` parameter to control this behavior.\n",
      "  _warn_prf(average, modifier, f\"{metric.capitalize()} is\", len(result))\n"
     ]
    },
    {
     "name": "stdout",
     "output_type": "stream",
     "text": [
      "Validation Accuracy: 0.6652971788551082\n",
      "Train Accuracy: 0.9999651166846897\n",
      "Test Accuracy: 0.6576576576576577\n",
      "Class-wise Accuracy:\n",
      "class_0_accuracy: 0.09\n",
      "class_1_accuracy: 0.49\n",
      "class_2_accuracy: 0.10\n",
      "class_3_accuracy: 0.64\n",
      "class_4_accuracy: 0.60\n",
      "class_5_accuracy: 0.00\n",
      "class_6_accuracy: 0.79\n",
      "class_7_accuracy: 0.79\n",
      "class_8_accuracy: 0.62\n",
      "class_9_accuracy: 0.96\n",
      "class_10_accuracy: 0.15\n",
      "class_11_accuracy: 0.94\n",
      "class_12_accuracy: 0.00\n",
      "class_13_accuracy: 0.04\n"
     ]
    },
    {
     "data": {
      "application/vnd.jupyter.widget-view+json": {
       "model_id": "3eb305c1668c4128a7320fdc509b266c",
       "version_major": 2,
       "version_minor": 0
      },
      "text/plain": [
       "VBox(children=(Label(value='0.003 MB of 0.003 MB uploaded\\r'), FloatProgress(value=1.0, max=1.0)))"
      ]
     },
     "metadata": {},
     "output_type": "display_data"
    },
    {
     "data": {
      "text/html": [
       "\n",
       "    <style>\n",
       "        .wandb-row {\n",
       "            display: flex;\n",
       "            flex-direction: row;\n",
       "            flex-wrap: wrap;\n",
       "            justify-content: flex-start;\n",
       "            width: 100%;\n",
       "        }\n",
       "        .wandb-col {\n",
       "            display: flex;\n",
       "            flex-direction: column;\n",
       "            flex-basis: 100%;\n",
       "            flex: 1;\n",
       "            padding: 10px;\n",
       "        }\n",
       "    </style>\n",
       "<div class=\"wandb-row\"><div class=\"wandb-col\"><h3>Run history:</h3><br/><table class=\"wandb\"><tr><td>class_0_accuracy</td><td>▁</td></tr><tr><td>class_10_accuracy</td><td>▁</td></tr><tr><td>class_11_accuracy</td><td>▁</td></tr><tr><td>class_12_accuracy</td><td>▁</td></tr><tr><td>class_13_accuracy</td><td>▁</td></tr><tr><td>class_1_accuracy</td><td>▁</td></tr><tr><td>class_2_accuracy</td><td>▁</td></tr><tr><td>class_3_accuracy</td><td>▁</td></tr><tr><td>class_4_accuracy</td><td>▁</td></tr><tr><td>class_5_accuracy</td><td>▁</td></tr><tr><td>class_6_accuracy</td><td>▁</td></tr><tr><td>class_7_accuracy</td><td>▁</td></tr><tr><td>class_8_accuracy</td><td>▁</td></tr><tr><td>class_9_accuracy</td><td>▁</td></tr><tr><td>test_accuracy</td><td>▁</td></tr><tr><td>train_accuracy</td><td>▁</td></tr><tr><td>val_accuracy</td><td>▁</td></tr></table><br/></div><div class=\"wandb-col\"><h3>Run summary:</h3><br/><table class=\"wandb\"><tr><td>class_0_accuracy</td><td>0.09091</td></tr><tr><td>class_10_accuracy</td><td>0.15232</td></tr><tr><td>class_11_accuracy</td><td>0.93868</td></tr><tr><td>class_12_accuracy</td><td>0</td></tr><tr><td>class_13_accuracy</td><td>0.03846</td></tr><tr><td>class_1_accuracy</td><td>0.48649</td></tr><tr><td>class_2_accuracy</td><td>0.10305</td></tr><tr><td>class_3_accuracy</td><td>0.63964</td></tr><tr><td>class_4_accuracy</td><td>0.59596</td></tr><tr><td>class_5_accuracy</td><td>0</td></tr><tr><td>class_6_accuracy</td><td>0.78661</td></tr><tr><td>class_7_accuracy</td><td>0.78824</td></tr><tr><td>class_8_accuracy</td><td>0.61728</td></tr><tr><td>class_9_accuracy</td><td>0.96429</td></tr><tr><td>test_accuracy</td><td>0.65766</td></tr><tr><td>train_accuracy</td><td>0.99997</td></tr><tr><td>val_accuracy</td><td>0.6653</td></tr></table><br/></div></div>"
      ],
      "text/plain": [
       "<IPython.core.display.HTML object>"
      ]
     },
     "metadata": {},
     "output_type": "display_data"
    },
    {
     "data": {
      "text/html": [
       " View run <strong style=\"color:#cdcd00\">RF-32x32x3-TEST</strong> at: <a href='https://wandb.ai/awacherfuglsang-university-of-southern-denmark/shallow-learners-TEST6/runs/ygx8au67' target=\"_blank\">https://wandb.ai/awacherfuglsang-university-of-southern-denmark/shallow-learners-TEST6/runs/ygx8au67</a><br/> View project at: <a href='https://wandb.ai/awacherfuglsang-university-of-southern-denmark/shallow-learners-TEST6' target=\"_blank\">https://wandb.ai/awacherfuglsang-university-of-southern-denmark/shallow-learners-TEST6</a><br/>Synced 5 W&B file(s), 0 media file(s), 0 artifact file(s) and 0 other file(s)"
      ],
      "text/plain": [
       "<IPython.core.display.HTML object>"
      ]
     },
     "metadata": {},
     "output_type": "display_data"
    },
    {
     "data": {
      "text/html": [
       "Find logs at: <code>.\\wandb\\run-20250119_011025-ygx8au67\\logs</code>"
      ],
      "text/plain": [
       "<IPython.core.display.HTML object>"
      ]
     },
     "metadata": {},
     "output_type": "display_data"
    }
   ],
   "source": [
    "import wandb\n",
    "from sklearn.ensemble import RandomForestClassifier\n",
    "from sklearn.metrics import classification_report, accuracy_score\n",
    "\n",
    "# Optimal hyperparameters from the sweep\n",
    "optimal_params = {\n",
    "    'n_estimators': 700,\n",
    "    'min_samples_split': 2, \n",
    "    'min_samples_leaf': 1,  \n",
    "    'max_depth': 25,\n",
    "    'max_features': 'sqrt', \n",
    "}\n",
    "\n",
    "# Start a W&B run\n",
    "wandb.init(project=\"shallow-learners-TEST6\", name=\"RF-32x32x3-TEST\", config=optimal_params)\n",
    "\n",
    "# Initialize the classifier with optimal parameters\n",
    "classifier = RandomForestClassifier(\n",
    "    n_estimators=optimal_params['n_estimators'],\n",
    "    min_samples_split=optimal_params['min_samples_split'],\n",
    "    min_samples_leaf=optimal_params['min_samples_leaf'],\n",
    "    max_depth=optimal_params['max_depth'],\n",
    "    max_features=optimal_params['max_features'],\n",
    "    n_jobs=-1,\n",
    "    class_weight='balanced_subsample'\n",
    ")\n",
    "\n",
    "# Train the model\n",
    "print(\"Training RF classifier with optimal parameters...\")\n",
    "classifier.fit(train_images, train_labels)\n",
    "\n",
    "# Evaluate on the validation set\n",
    "val_predictions = classifier.predict(validation_images)\n",
    "val_accuracy = accuracy_score(validation_labels, val_predictions)\n",
    "\n",
    "# Evaluate on the training set\n",
    "train_predictions = classifier.predict(train_images)\n",
    "train_accuracy = accuracy_score(train_labels, train_predictions)\n",
    "\n",
    "# Evaluate on the test set\n",
    "test_predictions = classifier.predict(test_images)\n",
    "test_accuracy = accuracy_score(test_labels, test_predictions)\n",
    "\n",
    "# Class-wise accuracy for test set\n",
    "classification_details = classification_report(test_labels, test_predictions, output_dict=True)\n",
    "class_accuracies = {}\n",
    "for label, metrics in classification_details.items():\n",
    "    if label.isdigit():  # Check if the label is a class label (numeric)\n",
    "        class_accuracies[f'class_{label}_accuracy'] = metrics['recall']\n",
    "\n",
    "# Log metrics to W&B\n",
    "wandb.log({\n",
    "    \"val_accuracy\": val_accuracy,\n",
    "    \"train_accuracy\": train_accuracy,\n",
    "    \"test_accuracy\": test_accuracy,\n",
    "    **class_accuracies  # Log class-wise accuracies\n",
    "})\n",
    "\n",
    "# Log additional details (optional)\n",
    "print(\"Validation Accuracy:\", val_accuracy)\n",
    "print(\"Train Accuracy:\", train_accuracy)\n",
    "print(\"Test Accuracy:\", test_accuracy)\n",
    "print(\"Class-wise Accuracy:\")\n",
    "for class_name, acc in class_accuracies.items():\n",
    "    print(f\"{class_name}: {acc:.2f}\")\n",
    "\n",
    "# Finish the W&B run\n",
    "wandb.finish()\n"
   ]
  },
  {
   "cell_type": "code",
   "execution_count": 9,
   "metadata": {},
   "outputs": [
    {
     "data": {
      "image/png": "[encoded data removed]",
      "text/plain": [
       "<Figure size 640x480 with 2 Axes>"
      ]
     },
     "metadata": {},
     "output_type": "display_data"
    }
   ],
   "source": [
    "feature_importances = classifier.feature_importances_\n",
    "\n",
    "# Visualize feature importance as a heatmap\n",
    "importance_image = feature_importances.reshape(32, 32, 3).mean(axis=2)  # Average across RGB channels\n",
    "plt.imshow(importance_image, cmap='hot')\n",
    "plt.colorbar()\n",
    "plt.title(\"Feature Importance Heatmap\")\n",
    "plt.show()"
   ]
  },
  {
   "cell_type": "code",
   "execution_count": 14,
   "metadata": {},
   "outputs": [
    {
     "data": {
      "text/html": [
       "Tracking run with wandb version 0.19.0"
      ],
      "text/plain": [
       "<IPython.core.display.HTML object>"
      ]
     },
     "metadata": {},
     "output_type": "display_data"
    },
    {
     "data": {
      "text/html": [
       "Run data is saved locally in <code>c:\\AML LOCAL exam 2024\\wandb\\run-20250119_011131-px0yyo80</code>"
      ],
      "text/plain": [
       "<IPython.core.display.HTML object>"
      ]
     },
     "metadata": {},
     "output_type": "display_data"
    },
    {
     "data": {
      "text/html": [
       "Syncing run <strong><a href='https://wandb.ai/awacherfuglsang-university-of-southern-denmark/shallow-learners-stacking/runs/px0yyo80' target=\"_blank\">stacking-32x32x3</a></strong> to <a href='https://wandb.ai/awacherfuglsang-university-of-southern-denmark/shallow-learners-stacking' target=\"_blank\">Weights & Biases</a> (<a href='https://wandb.me/developer-guide' target=\"_blank\">docs</a>)<br/>"
      ],
      "text/plain": [
       "<IPython.core.display.HTML object>"
      ]
     },
     "metadata": {},
     "output_type": "display_data"
    },
    {
     "data": {
      "text/html": [
       " View project at <a href='https://wandb.ai/awacherfuglsang-university-of-southern-denmark/shallow-learners-stacking' target=\"_blank\">https://wandb.ai/awacherfuglsang-university-of-southern-denmark/shallow-learners-stacking</a>"
      ],
      "text/plain": [
       "<IPython.core.display.HTML object>"
      ]
     },
     "metadata": {},
     "output_type": "display_data"
    },
    {
     "data": {
      "text/html": [
       " View run at <a href='https://wandb.ai/awacherfuglsang-university-of-southern-denmark/shallow-learners-stacking/runs/px0yyo80' target=\"_blank\">https://wandb.ai/awacherfuglsang-university-of-southern-denmark/shallow-learners-stacking/runs/px0yyo80</a>"
      ],
      "text/plain": [
       "<IPython.core.display.HTML object>"
      ]
     },
     "metadata": {},
     "output_type": "display_data"
    },
    {
     "name": "stdout",
     "output_type": "stream",
     "text": [
      "Training voting classifier with optimal parameters on combined training data...\n"
     ]
    },
    {
     "ename": "KeyboardInterrupt",
     "evalue": "",
     "output_type": "error",
     "traceback": [
      "\u001b[1;31m---------------------------------------------------------------------------\u001b[0m",
      "\u001b[1;31mKeyboardInterrupt\u001b[0m                         Traceback (most recent call last)",
      "Cell \u001b[1;32mIn[14], line 91\u001b[0m\n\u001b[0;32m     89\u001b[0m \u001b[38;5;66;03m# Train the model\u001b[39;00m\n\u001b[0;32m     90\u001b[0m \u001b[38;5;28mprint\u001b[39m(\u001b[38;5;124m\"\u001b[39m\u001b[38;5;124mTraining voting classifier with optimal parameters on combined training data...\u001b[39m\u001b[38;5;124m\"\u001b[39m)\n\u001b[1;32m---> 91\u001b[0m \u001b[43mclassifier\u001b[49m\u001b[38;5;241;43m.\u001b[39;49m\u001b[43mfit\u001b[49m\u001b[43m(\u001b[49m\u001b[43mtrain_images_combined\u001b[49m\u001b[43m,\u001b[49m\u001b[43m \u001b[49m\u001b[43mtrain_labels_combined\u001b[49m\u001b[43m)\u001b[49m\n\u001b[0;32m     93\u001b[0m \u001b[38;5;66;03m# Evaluate on the test set\u001b[39;00m\n\u001b[0;32m     94\u001b[0m test_predictions \u001b[38;5;241m=\u001b[39m classifier\u001b[38;5;241m.\u001b[39mpredict(test_images)\n",
      "File \u001b[1;32mc:\\Users\\Fuglsang\\miniconda3\\envs\\aml\\lib\\site-packages\\sklearn\\ensemble\\_stacking.py:672\u001b[0m, in \u001b[0;36mStackingClassifier.fit\u001b[1;34m(self, X, y, sample_weight)\u001b[0m\n\u001b[0;32m    670\u001b[0m     \u001b[38;5;28mself\u001b[39m\u001b[38;5;241m.\u001b[39mclasses_ \u001b[38;5;241m=\u001b[39m \u001b[38;5;28mself\u001b[39m\u001b[38;5;241m.\u001b[39m_label_encoder\u001b[38;5;241m.\u001b[39mclasses_\n\u001b[0;32m    671\u001b[0m     y_encoded \u001b[38;5;241m=\u001b[39m \u001b[38;5;28mself\u001b[39m\u001b[38;5;241m.\u001b[39m_label_encoder\u001b[38;5;241m.\u001b[39mtransform(y)\n\u001b[1;32m--> 672\u001b[0m \u001b[38;5;28;01mreturn\u001b[39;00m \u001b[38;5;28;43msuper\u001b[39;49m\u001b[43m(\u001b[49m\u001b[43m)\u001b[49m\u001b[38;5;241;43m.\u001b[39;49m\u001b[43mfit\u001b[49m\u001b[43m(\u001b[49m\u001b[43mX\u001b[49m\u001b[43m,\u001b[49m\u001b[43m \u001b[49m\u001b[43my_encoded\u001b[49m\u001b[43m,\u001b[49m\u001b[43m \u001b[49m\u001b[43msample_weight\u001b[49m\u001b[43m)\u001b[49m\n",
      "File \u001b[1;32mc:\\Users\\Fuglsang\\miniconda3\\envs\\aml\\lib\\site-packages\\sklearn\\base.py:1473\u001b[0m, in \u001b[0;36m_fit_context.<locals>.decorator.<locals>.wrapper\u001b[1;34m(estimator, *args, **kwargs)\u001b[0m\n\u001b[0;32m   1466\u001b[0m     estimator\u001b[38;5;241m.\u001b[39m_validate_params()\n\u001b[0;32m   1468\u001b[0m \u001b[38;5;28;01mwith\u001b[39;00m config_context(\n\u001b[0;32m   1469\u001b[0m     skip_parameter_validation\u001b[38;5;241m=\u001b[39m(\n\u001b[0;32m   1470\u001b[0m         prefer_skip_nested_validation \u001b[38;5;129;01mor\u001b[39;00m global_skip_validation\n\u001b[0;32m   1471\u001b[0m     )\n\u001b[0;32m   1472\u001b[0m ):\n\u001b[1;32m-> 1473\u001b[0m     \u001b[38;5;28;01mreturn\u001b[39;00m fit_method(estimator, \u001b[38;5;241m*\u001b[39margs, \u001b[38;5;241m*\u001b[39m\u001b[38;5;241m*\u001b[39mkwargs)\n",
      "File \u001b[1;32mc:\\Users\\Fuglsang\\miniconda3\\envs\\aml\\lib\\site-packages\\sklearn\\ensemble\\_stacking.py:264\u001b[0m, in \u001b[0;36m_BaseStacking.fit\u001b[1;34m(self, X, y, sample_weight)\u001b[0m\n\u001b[0;32m    261\u001b[0m     \u001b[38;5;28;01mif\u001b[39;00m \u001b[38;5;28mhasattr\u001b[39m(cv, \u001b[38;5;124m\"\u001b[39m\u001b[38;5;124mrandom_state\u001b[39m\u001b[38;5;124m\"\u001b[39m) \u001b[38;5;129;01mand\u001b[39;00m cv\u001b[38;5;241m.\u001b[39mrandom_state \u001b[38;5;129;01mis\u001b[39;00m \u001b[38;5;28;01mNone\u001b[39;00m:\n\u001b[0;32m    262\u001b[0m         cv\u001b[38;5;241m.\u001b[39mrandom_state \u001b[38;5;241m=\u001b[39m np\u001b[38;5;241m.\u001b[39mrandom\u001b[38;5;241m.\u001b[39mRandomState()\n\u001b[1;32m--> 264\u001b[0m     predictions \u001b[38;5;241m=\u001b[39m \u001b[43mParallel\u001b[49m\u001b[43m(\u001b[49m\u001b[43mn_jobs\u001b[49m\u001b[38;5;241;43m=\u001b[39;49m\u001b[38;5;28;43mself\u001b[39;49m\u001b[38;5;241;43m.\u001b[39;49m\u001b[43mn_jobs\u001b[49m\u001b[43m)\u001b[49m\u001b[43m(\u001b[49m\n\u001b[0;32m    265\u001b[0m \u001b[43m        \u001b[49m\u001b[43mdelayed\u001b[49m\u001b[43m(\u001b[49m\u001b[43mcross_val_predict\u001b[49m\u001b[43m)\u001b[49m\u001b[43m(\u001b[49m\n\u001b[0;32m    266\u001b[0m \u001b[43m            \u001b[49m\u001b[43mclone\u001b[49m\u001b[43m(\u001b[49m\u001b[43mest\u001b[49m\u001b[43m)\u001b[49m\u001b[43m,\u001b[49m\n\u001b[0;32m    267\u001b[0m \u001b[43m            \u001b[49m\u001b[43mX\u001b[49m\u001b[43m,\u001b[49m\n\u001b[0;32m    268\u001b[0m \u001b[43m            \u001b[49m\u001b[43my\u001b[49m\u001b[43m,\u001b[49m\n\u001b[0;32m    269\u001b[0m \u001b[43m            \u001b[49m\u001b[43mcv\u001b[49m\u001b[38;5;241;43m=\u001b[39;49m\u001b[43mdeepcopy\u001b[49m\u001b[43m(\u001b[49m\u001b[43mcv\u001b[49m\u001b[43m)\u001b[49m\u001b[43m,\u001b[49m\n\u001b[0;32m    270\u001b[0m \u001b[43m            \u001b[49m\u001b[43mmethod\u001b[49m\u001b[38;5;241;43m=\u001b[39;49m\u001b[43mmeth\u001b[49m\u001b[43m,\u001b[49m\n\u001b[0;32m    271\u001b[0m \u001b[43m            \u001b[49m\u001b[43mn_jobs\u001b[49m\u001b[38;5;241;43m=\u001b[39;49m\u001b[38;5;28;43mself\u001b[39;49m\u001b[38;5;241;43m.\u001b[39;49m\u001b[43mn_jobs\u001b[49m\u001b[43m,\u001b[49m\n\u001b[0;32m    272\u001b[0m \u001b[43m            \u001b[49m\u001b[43mparams\u001b[49m\u001b[38;5;241;43m=\u001b[39;49m\u001b[43mfit_params\u001b[49m\u001b[43m,\u001b[49m\n\u001b[0;32m    273\u001b[0m \u001b[43m            \u001b[49m\u001b[43mverbose\u001b[49m\u001b[38;5;241;43m=\u001b[39;49m\u001b[38;5;28;43mself\u001b[39;49m\u001b[38;5;241;43m.\u001b[39;49m\u001b[43mverbose\u001b[49m\u001b[43m,\u001b[49m\n\u001b[0;32m    274\u001b[0m \u001b[43m        \u001b[49m\u001b[43m)\u001b[49m\n\u001b[0;32m    275\u001b[0m \u001b[43m        \u001b[49m\u001b[38;5;28;43;01mfor\u001b[39;49;00m\u001b[43m \u001b[49m\u001b[43mest\u001b[49m\u001b[43m,\u001b[49m\u001b[43m \u001b[49m\u001b[43mmeth\u001b[49m\u001b[43m \u001b[49m\u001b[38;5;129;43;01min\u001b[39;49;00m\u001b[43m \u001b[49m\u001b[38;5;28;43mzip\u001b[39;49m\u001b[43m(\u001b[49m\u001b[43mall_estimators\u001b[49m\u001b[43m,\u001b[49m\u001b[43m \u001b[49m\u001b[38;5;28;43mself\u001b[39;49m\u001b[38;5;241;43m.\u001b[39;49m\u001b[43mstack_method_\u001b[49m\u001b[43m)\u001b[49m\n\u001b[0;32m    276\u001b[0m \u001b[43m        \u001b[49m\u001b[38;5;28;43;01mif\u001b[39;49;00m\u001b[43m \u001b[49m\u001b[43mest\u001b[49m\u001b[43m \u001b[49m\u001b[38;5;241;43m!=\u001b[39;49m\u001b[43m \u001b[49m\u001b[38;5;124;43m\"\u001b[39;49m\u001b[38;5;124;43mdrop\u001b[39;49m\u001b[38;5;124;43m\"\u001b[39;49m\n\u001b[0;32m    277\u001b[0m \u001b[43m    \u001b[49m\u001b[43m)\u001b[49m\n\u001b[0;32m    279\u001b[0m \u001b[38;5;66;03m# Only not None or not 'drop' estimators will be used in transform.\u001b[39;00m\n\u001b[0;32m    280\u001b[0m \u001b[38;5;66;03m# Remove the None from the method as well.\u001b[39;00m\n\u001b[0;32m    281\u001b[0m \u001b[38;5;28mself\u001b[39m\u001b[38;5;241m.\u001b[39mstack_method_ \u001b[38;5;241m=\u001b[39m [\n\u001b[0;32m    282\u001b[0m     meth\n\u001b[0;32m    283\u001b[0m     \u001b[38;5;28;01mfor\u001b[39;00m (meth, est) \u001b[38;5;129;01min\u001b[39;00m \u001b[38;5;28mzip\u001b[39m(\u001b[38;5;28mself\u001b[39m\u001b[38;5;241m.\u001b[39mstack_method_, all_estimators)\n\u001b[0;32m    284\u001b[0m     \u001b[38;5;28;01mif\u001b[39;00m est \u001b[38;5;241m!=\u001b[39m \u001b[38;5;124m\"\u001b[39m\u001b[38;5;124mdrop\u001b[39m\u001b[38;5;124m\"\u001b[39m\n\u001b[0;32m    285\u001b[0m ]\n",
      "File \u001b[1;32mc:\\Users\\Fuglsang\\miniconda3\\envs\\aml\\lib\\site-packages\\sklearn\\utils\\parallel.py:74\u001b[0m, in \u001b[0;36mParallel.__call__\u001b[1;34m(self, iterable)\u001b[0m\n\u001b[0;32m     69\u001b[0m config \u001b[38;5;241m=\u001b[39m get_config()\n\u001b[0;32m     70\u001b[0m iterable_with_config \u001b[38;5;241m=\u001b[39m (\n\u001b[0;32m     71\u001b[0m     (_with_config(delayed_func, config), args, kwargs)\n\u001b[0;32m     72\u001b[0m     \u001b[38;5;28;01mfor\u001b[39;00m delayed_func, args, kwargs \u001b[38;5;129;01min\u001b[39;00m iterable\n\u001b[0;32m     73\u001b[0m )\n\u001b[1;32m---> 74\u001b[0m \u001b[38;5;28;01mreturn\u001b[39;00m \u001b[38;5;28;43msuper\u001b[39;49m\u001b[43m(\u001b[49m\u001b[43m)\u001b[49m\u001b[38;5;241;43m.\u001b[39;49m\u001b[38;5;21;43m__call__\u001b[39;49m\u001b[43m(\u001b[49m\u001b[43miterable_with_config\u001b[49m\u001b[43m)\u001b[49m\n",
      "File \u001b[1;32mc:\\Users\\Fuglsang\\miniconda3\\envs\\aml\\lib\\site-packages\\joblib\\parallel.py:2007\u001b[0m, in \u001b[0;36mParallel.__call__\u001b[1;34m(self, iterable)\u001b[0m\n\u001b[0;32m   2001\u001b[0m \u001b[38;5;66;03m# The first item from the output is blank, but it makes the interpreter\u001b[39;00m\n\u001b[0;32m   2002\u001b[0m \u001b[38;5;66;03m# progress until it enters the Try/Except block of the generator and\u001b[39;00m\n\u001b[0;32m   2003\u001b[0m \u001b[38;5;66;03m# reaches the first `yield` statement. This starts the asynchronous\u001b[39;00m\n\u001b[0;32m   2004\u001b[0m \u001b[38;5;66;03m# dispatch of the tasks to the workers.\u001b[39;00m\n\u001b[0;32m   2005\u001b[0m \u001b[38;5;28mnext\u001b[39m(output)\n\u001b[1;32m-> 2007\u001b[0m \u001b[38;5;28;01mreturn\u001b[39;00m output \u001b[38;5;28;01mif\u001b[39;00m \u001b[38;5;28mself\u001b[39m\u001b[38;5;241m.\u001b[39mreturn_generator \u001b[38;5;28;01melse\u001b[39;00m \u001b[38;5;28;43mlist\u001b[39;49m\u001b[43m(\u001b[49m\u001b[43moutput\u001b[49m\u001b[43m)\u001b[49m\n",
      "File \u001b[1;32mc:\\Users\\Fuglsang\\miniconda3\\envs\\aml\\lib\\site-packages\\joblib\\parallel.py:1650\u001b[0m, in \u001b[0;36mParallel._get_outputs\u001b[1;34m(self, iterator, pre_dispatch)\u001b[0m\n\u001b[0;32m   1647\u001b[0m     \u001b[38;5;28;01myield\u001b[39;00m\n\u001b[0;32m   1649\u001b[0m     \u001b[38;5;28;01mwith\u001b[39;00m \u001b[38;5;28mself\u001b[39m\u001b[38;5;241m.\u001b[39m_backend\u001b[38;5;241m.\u001b[39mretrieval_context():\n\u001b[1;32m-> 1650\u001b[0m         \u001b[38;5;28;01myield from\u001b[39;00m \u001b[38;5;28mself\u001b[39m\u001b[38;5;241m.\u001b[39m_retrieve()\n\u001b[0;32m   1652\u001b[0m \u001b[38;5;28;01mexcept\u001b[39;00m \u001b[38;5;167;01mGeneratorExit\u001b[39;00m:\n\u001b[0;32m   1653\u001b[0m     \u001b[38;5;66;03m# The generator has been garbage collected before being fully\u001b[39;00m\n\u001b[0;32m   1654\u001b[0m     \u001b[38;5;66;03m# consumed. This aborts the remaining tasks if possible and warn\u001b[39;00m\n\u001b[0;32m   1655\u001b[0m     \u001b[38;5;66;03m# the user if necessary.\u001b[39;00m\n\u001b[0;32m   1656\u001b[0m     \u001b[38;5;28mself\u001b[39m\u001b[38;5;241m.\u001b[39m_exception \u001b[38;5;241m=\u001b[39m \u001b[38;5;28;01mTrue\u001b[39;00m\n",
      "File \u001b[1;32mc:\\Users\\Fuglsang\\miniconda3\\envs\\aml\\lib\\site-packages\\joblib\\parallel.py:1762\u001b[0m, in \u001b[0;36mParallel._retrieve\u001b[1;34m(self)\u001b[0m\n\u001b[0;32m   1757\u001b[0m \u001b[38;5;66;03m# If the next job is not ready for retrieval yet, we just wait for\u001b[39;00m\n\u001b[0;32m   1758\u001b[0m \u001b[38;5;66;03m# async callbacks to progress.\u001b[39;00m\n\u001b[0;32m   1759\u001b[0m \u001b[38;5;28;01mif\u001b[39;00m ((\u001b[38;5;28mlen\u001b[39m(\u001b[38;5;28mself\u001b[39m\u001b[38;5;241m.\u001b[39m_jobs) \u001b[38;5;241m==\u001b[39m \u001b[38;5;241m0\u001b[39m) \u001b[38;5;129;01mor\u001b[39;00m\n\u001b[0;32m   1760\u001b[0m     (\u001b[38;5;28mself\u001b[39m\u001b[38;5;241m.\u001b[39m_jobs[\u001b[38;5;241m0\u001b[39m]\u001b[38;5;241m.\u001b[39mget_status(\n\u001b[0;32m   1761\u001b[0m         timeout\u001b[38;5;241m=\u001b[39m\u001b[38;5;28mself\u001b[39m\u001b[38;5;241m.\u001b[39mtimeout) \u001b[38;5;241m==\u001b[39m TASK_PENDING)):\n\u001b[1;32m-> 1762\u001b[0m     \u001b[43mtime\u001b[49m\u001b[38;5;241;43m.\u001b[39;49m\u001b[43msleep\u001b[49m\u001b[43m(\u001b[49m\u001b[38;5;241;43m0.01\u001b[39;49m\u001b[43m)\u001b[49m\n\u001b[0;32m   1763\u001b[0m     \u001b[38;5;28;01mcontinue\u001b[39;00m\n\u001b[0;32m   1765\u001b[0m \u001b[38;5;66;03m# We need to be careful: the job list can be filling up as\u001b[39;00m\n\u001b[0;32m   1766\u001b[0m \u001b[38;5;66;03m# we empty it and Python list are not thread-safe by\u001b[39;00m\n\u001b[0;32m   1767\u001b[0m \u001b[38;5;66;03m# default hence the use of the lock\u001b[39;00m\n",
      "\u001b[1;31mKeyboardInterrupt\u001b[0m: "
     ]
    }
   ],
   "source": [
    "\n",
    "\n",
    "# Optimal hyperparameters for GB\n",
    "optimal_params_GB = {\n",
    "    'learning_rate': 0.026784,\n",
    "    'max_iter': 1162,\n",
    "    'max_depth': 11,\n",
    "    'l2_regularization': 0.69705\n",
    "}\n",
    "\n",
    "\n",
    "# Optimal hyperparameters for SVC\n",
    "optimal_params_SVC = {\n",
    "    'C': 1,        \n",
    "    'kernel': 'rbf',\n",
    "    'gamma': 'scale',\n",
    "    'class_weight': 'balanced'\n",
    "}\n",
    "\n",
    "\n",
    "\n",
    "# Optimal hyperparameters for RF\n",
    "optimal_params_RF = {\n",
    "    'n_estimators': 1850,\n",
    "    'min_samples_split': 9, \n",
    "    'min_samples_leaf': 1,  \n",
    "    'max_depth': 80,\n",
    "    'max_features': 'sqrt', \n",
    "    'class_weight': 'balanced_subsample',\n",
    "}\n",
    "\n",
    "# Start a W&B run\n",
    "wandb.init(project=\"shallow-learners-stacking\", name=\"stacking-32x32x3\", config={\n",
    "    \"GB_params\": optimal_params_GB,\n",
    "    \"SVC_params\": optimal_params_SVC,\n",
    "    \"RF_params\": optimal_params_RF\n",
    "})\n",
    "\n",
    "\n",
    "gb_clf = HistGradientBoostingClassifier(\n",
    "    learning_rate=optimal_params_GB['learning_rate'],\n",
    "    max_iter=optimal_params_GB['max_iter'],\n",
    "    max_depth=optimal_params_GB['max_depth'],\n",
    "    l2_regularization=optimal_params_GB['l2_regularization']\n",
    ")\n",
    "\n",
    "\n",
    "svc_clf = SVC(\n",
    "    C=optimal_params_SVC['C'],\n",
    "    kernel=optimal_params_SVC['kernel'],\n",
    "    gamma=optimal_params_SVC['gamma'],\n",
    "    probability=True,\n",
    "    class_weight=optimal_params_SVC['class_weight']\n",
    ")\n",
    "\n",
    "\n",
    "\n",
    "rf_clf = RandomForestClassifier(\n",
    "    n_estimators=optimal_params_RF['n_estimators'],\n",
    "    min_samples_split=optimal_params_RF['min_samples_split'],\n",
    "    min_samples_leaf=optimal_params_RF['min_samples_leaf'],\n",
    "    max_depth=optimal_params_RF['max_depth'],\n",
    "    max_features=optimal_params_RF['max_features'],\n",
    "    class_weight=optimal_params_RF['class_weight']\n",
    ")\n",
    "\n",
    "\n",
    "\n",
    "\n",
    "# Initialize the voting classifier \n",
    "classifier = VotingClassifier(\n",
    "    estimators=[\n",
    "        ('gradient_boosting', gb_clf),\n",
    "        ('support_vector', svc_clf),\n",
    "        ('random_forest', rf_clf)\n",
    "    ],\n",
    "    voting='soft',\n",
    "    n_jobs=-1\n",
    ")\n",
    "\n",
    "\n",
    "# Combine training and validation datasets\n",
    "train_images_combined = np.concatenate((train_images, validation_images), axis=0)\n",
    "train_labels_combined = np.concatenate((train_labels, validation_labels), axis=0)\n",
    "\n",
    "# Train the model\n",
    "print(\"Training voting classifier with optimal parameters on combined training data...\")\n",
    "classifier.fit(train_images_combined, train_labels_combined)\n",
    "\n",
    "# Evaluate on the test set\n",
    "test_predictions = classifier.predict(test_images)\n",
    "test_accuracy = accuracy_score(test_labels, test_predictions)\n",
    "\n",
    "# Class-wise accuracy for the test set\n",
    "classification_details = classification_report(test_labels, test_predictions, output_dict=True)\n",
    "class_accuracies = {}\n",
    "for label, metrics in classification_details.items():\n",
    "    if label.isdigit():  # Check if the label is a class label (numeric)\n",
    "        class_accuracies[f'class_{label}_accuracy'] = metrics['recall']\n",
    "\n",
    "# Log metrics to W&B\n",
    "wandb.log({\n",
    "    \"test_accuracy\": test_accuracy,\n",
    "    **class_accuracies  # Log class-wise accuracies\n",
    "})\n",
    "\n",
    "# Log additional details (optional)\n",
    "print(\"Test Accuracy:\", test_accuracy)\n",
    "print(\"Class-wise Accuracy:\")\n",
    "for class_name, acc in class_accuracies.items():\n",
    "    print(f\"{class_name}: {acc:.2f}\")\n",
    "\n",
    "# Finish the W&B run\n",
    "wandb.finish()\n",
    "\n"
   ]
  }
 ],
 "metadata": {
  "kernelspec": {
   "display_name": "Python 3",
   "language": "python",
   "name": "python3"
  },
  "language_info": {
   "codemirror_mode": {
    "name": "ipython",
    "version": 3
   },
   "file_extension": ".py",
   "mimetype": "text/x-python",
   "name": "python",
   "nbconvert_exporter": "python",
   "pygments_lexer": "ipython3",
   "version": "3.10.14"
  }
 },
 "nbformat": 4,
 "nbformat_minor": 2
}
